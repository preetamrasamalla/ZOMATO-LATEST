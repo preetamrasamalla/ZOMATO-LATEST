{
 "cells": [
  {
   "cell_type": "markdown",
   "id": "f32bedec",
   "metadata": {
    "_cell_guid": "b1076dfc-b9ad-4769-8c92-a6c4dae69d19",
    "_uuid": "8f2839f25d086af736a60e9eeb907d3b93b6e0e5",
    "execution": {
     "iopub.execute_input": "2022-07-17T10:49:31.988567Z",
     "iopub.status.busy": "2022-07-17T10:49:31.987998Z",
     "iopub.status.idle": "2022-07-17T10:49:32.023982Z",
     "shell.execute_reply": "2022-07-17T10:49:32.022776Z",
     "shell.execute_reply.started": "2022-07-17T10:49:31.988456Z"
    },
    "papermill": {
     "duration": 0.009102,
     "end_time": "2022-07-17T13:17:31.756304",
     "exception": false,
     "start_time": "2022-07-17T13:17:31.747202",
     "status": "completed"
    },
    "tags": []
   },
   "source": [
    "# EXPLORATORY DATA ANALYSIS : ZOMATO(HYDERABAD'S LATEST WEEK) "
   ]
  },
  {
   "cell_type": "code",
   "execution_count": 1,
   "id": "33b23d49",
   "metadata": {
    "execution": {
     "iopub.execute_input": "2022-07-17T13:17:31.775418Z",
     "iopub.status.busy": "2022-07-17T13:17:31.774946Z",
     "iopub.status.idle": "2022-07-17T13:17:31.797080Z",
     "shell.execute_reply": "2022-07-17T13:17:31.796081Z"
    },
    "papermill": {
     "duration": 0.034994,
     "end_time": "2022-07-17T13:17:31.799966",
     "exception": false,
     "start_time": "2022-07-17T13:17:31.764972",
     "status": "completed"
    },
    "tags": []
   },
   "outputs": [
    {
     "name": "stdout",
     "output_type": "stream",
     "text": [
      "/kaggle/input/zomatocsv/HyderabadResturants.csv\n"
     ]
    }
   ],
   "source": [
    "# This Python 3 environment comes with many helpful analytics libraries installed\n",
    "# It is defined by the kaggle/python Docker image: https://github.com/kaggle/docker-python\n",
    "# For example, here's several helpful packages to load\n",
    "\n",
    "import numpy as np # linear algebra\n",
    "import pandas as pd # data processing, CSV file I/O (e.g. pd.read_csv)\n",
    "\n",
    "# Input data files are available in the read-only \"../input/\" directory\n",
    "# For example, running this (by clicking run or pressing Shift+Enter) will list all files under the input directory\n",
    "\n",
    "import os\n",
    "for dirname, _, filenames in os.walk('/kaggle/input'):\n",
    "    for filename in filenames:\n",
    "        print(os.path.join(dirname, filename))\n",
    "\n",
    "# You can write up to 20GB to the current directory (/kaggle/working/) that gets preserved as output when you create a version using \"Save & Run All\" \n",
    "# You can also write temporary files to /kaggle/temp/, but they won't be saved outside of the current session"
   ]
  },
  {
   "cell_type": "code",
   "execution_count": 2,
   "id": "6c0c1738",
   "metadata": {
    "execution": {
     "iopub.execute_input": "2022-07-17T13:17:31.819375Z",
     "iopub.status.busy": "2022-07-17T13:17:31.818320Z",
     "iopub.status.idle": "2022-07-17T13:17:32.833371Z",
     "shell.execute_reply": "2022-07-17T13:17:32.832070Z"
    },
    "papermill": {
     "duration": 1.027901,
     "end_time": "2022-07-17T13:17:32.836228",
     "exception": false,
     "start_time": "2022-07-17T13:17:31.808327",
     "status": "completed"
    },
    "tags": []
   },
   "outputs": [],
   "source": [
    "import matplotlib.pyplot as mat\n",
    "import seaborn as sbn\n",
    "sbn.set_style=('darkgrid')"
   ]
  },
  {
   "cell_type": "code",
   "execution_count": 3,
   "id": "759e89e5",
   "metadata": {
    "execution": {
     "iopub.execute_input": "2022-07-17T13:17:32.854262Z",
     "iopub.status.busy": "2022-07-17T13:17:32.853844Z",
     "iopub.status.idle": "2022-07-17T13:17:32.873265Z",
     "shell.execute_reply": "2022-07-17T13:17:32.872249Z"
    },
    "papermill": {
     "duration": 0.031809,
     "end_time": "2022-07-17T13:17:32.876150",
     "exception": false,
     "start_time": "2022-07-17T13:17:32.844341",
     "status": "completed"
    },
    "tags": []
   },
   "outputs": [],
   "source": [
    "data= pd.read_csv('../input/zomatocsv/HyderabadResturants.csv')"
   ]
  },
  {
   "cell_type": "code",
   "execution_count": 4,
   "id": "f75f54c3",
   "metadata": {
    "execution": {
     "iopub.execute_input": "2022-07-17T13:17:32.894615Z",
     "iopub.status.busy": "2022-07-17T13:17:32.894007Z",
     "iopub.status.idle": "2022-07-17T13:17:32.918332Z",
     "shell.execute_reply": "2022-07-17T13:17:32.917179Z"
    },
    "papermill": {
     "duration": 0.036595,
     "end_time": "2022-07-17T13:17:32.920991",
     "exception": false,
     "start_time": "2022-07-17T13:17:32.884396",
     "status": "completed"
    },
    "tags": []
   },
   "outputs": [
    {
     "data": {
      "text/html": [
       "<div>\n",
       "<style scoped>\n",
       "    .dataframe tbody tr th:only-of-type {\n",
       "        vertical-align: middle;\n",
       "    }\n",
       "\n",
       "    .dataframe tbody tr th {\n",
       "        vertical-align: top;\n",
       "    }\n",
       "\n",
       "    .dataframe thead th {\n",
       "        text-align: right;\n",
       "    }\n",
       "</style>\n",
       "<table border=\"1\" class=\"dataframe\">\n",
       "  <thead>\n",
       "    <tr style=\"text-align: right;\">\n",
       "      <th></th>\n",
       "      <th>links</th>\n",
       "      <th>names</th>\n",
       "      <th>ratings</th>\n",
       "      <th>cuisine</th>\n",
       "      <th>price for one</th>\n",
       "    </tr>\n",
       "  </thead>\n",
       "  <tbody>\n",
       "    <tr>\n",
       "      <th>0</th>\n",
       "      <td>https://www.zomato.com/hyderabad/sahara-bakers...</td>\n",
       "      <td>Sahara Bakers</td>\n",
       "      <td>3.7</td>\n",
       "      <td>Chinese, Bakery, Sichuan, Pizza, Burger</td>\n",
       "      <td>100</td>\n",
       "    </tr>\n",
       "    <tr>\n",
       "      <th>1</th>\n",
       "      <td>https://www.zomato.com/hyderabad/kfc-abids/order</td>\n",
       "      <td>KFC</td>\n",
       "      <td>3.9</td>\n",
       "      <td>Burger, Fast Food, Biryani, Desserts, Beverages</td>\n",
       "      <td>100</td>\n",
       "    </tr>\n",
       "    <tr>\n",
       "      <th>2</th>\n",
       "      <td>https://www.zomato.com/hyderabad/subbaiah-gari...</td>\n",
       "      <td>Subbaiah Gari Hotel</td>\n",
       "      <td>4.1</td>\n",
       "      <td>South Indian, Andhra, Mithai</td>\n",
       "      <td>100</td>\n",
       "    </tr>\n",
       "    <tr>\n",
       "      <th>3</th>\n",
       "      <td>https://www.zomato.com/hyderabad/paradise-biry...</td>\n",
       "      <td>Paradise Biryani</td>\n",
       "      <td>3.9</td>\n",
       "      <td>Biryani, Kebab, Desserts, Beverages</td>\n",
       "      <td>100</td>\n",
       "    </tr>\n",
       "    <tr>\n",
       "      <th>4</th>\n",
       "      <td>https://www.zomato.com/hyderabad/pista-house-b...</td>\n",
       "      <td>Pista House Bakery</td>\n",
       "      <td>4.3</td>\n",
       "      <td>Fast Food, Sandwich, Pizza, Burger, Wraps, Rol...</td>\n",
       "      <td>100</td>\n",
       "    </tr>\n",
       "    <tr>\n",
       "      <th>...</th>\n",
       "      <td>...</td>\n",
       "      <td>...</td>\n",
       "      <td>...</td>\n",
       "      <td>...</td>\n",
       "      <td>...</td>\n",
       "    </tr>\n",
       "    <tr>\n",
       "      <th>652</th>\n",
       "      <td>https://www.zomato.com/hyderabad/dr-cakes-banj...</td>\n",
       "      <td>Dr Cakes</td>\n",
       "      <td>3.2</td>\n",
       "      <td>Bakery, Desserts</td>\n",
       "      <td>350</td>\n",
       "    </tr>\n",
       "    <tr>\n",
       "      <th>653</th>\n",
       "      <td>https://www.zomato.com/hyderabad/shahi-naan-am...</td>\n",
       "      <td>Shahi Naan</td>\n",
       "      <td>-</td>\n",
       "      <td>North Indian</td>\n",
       "      <td>350</td>\n",
       "    </tr>\n",
       "    <tr>\n",
       "      <th>654</th>\n",
       "      <td>https://www.zomato.com/hyderabad/combosthalam-...</td>\n",
       "      <td>Combosthalam By Phulkaas</td>\n",
       "      <td>3.8</td>\n",
       "      <td>North Indian, Chinese</td>\n",
       "      <td>350</td>\n",
       "    </tr>\n",
       "    <tr>\n",
       "      <th>655</th>\n",
       "      <td>https://www.zomato.com/hyderabad/pachadis-by-p...</td>\n",
       "      <td>Pachadis By Phulkaas</td>\n",
       "      <td>-</td>\n",
       "      <td>South Indian</td>\n",
       "      <td>350</td>\n",
       "    </tr>\n",
       "    <tr>\n",
       "      <th>656</th>\n",
       "      <td>https://www.zomato.com/hyderabad/tasim-1-himay...</td>\n",
       "      <td>Tasim</td>\n",
       "      <td>3.4</td>\n",
       "      <td>Chinese, Momos</td>\n",
       "      <td>350</td>\n",
       "    </tr>\n",
       "  </tbody>\n",
       "</table>\n",
       "<p>657 rows × 5 columns</p>\n",
       "</div>"
      ],
      "text/plain": [
       "                                                 links  \\\n",
       "0    https://www.zomato.com/hyderabad/sahara-bakers...   \n",
       "1     https://www.zomato.com/hyderabad/kfc-abids/order   \n",
       "2    https://www.zomato.com/hyderabad/subbaiah-gari...   \n",
       "3    https://www.zomato.com/hyderabad/paradise-biry...   \n",
       "4    https://www.zomato.com/hyderabad/pista-house-b...   \n",
       "..                                                 ...   \n",
       "652  https://www.zomato.com/hyderabad/dr-cakes-banj...   \n",
       "653  https://www.zomato.com/hyderabad/shahi-naan-am...   \n",
       "654  https://www.zomato.com/hyderabad/combosthalam-...   \n",
       "655  https://www.zomato.com/hyderabad/pachadis-by-p...   \n",
       "656  https://www.zomato.com/hyderabad/tasim-1-himay...   \n",
       "\n",
       "                        names ratings  \\\n",
       "0               Sahara Bakers     3.7   \n",
       "1                         KFC     3.9   \n",
       "2         Subbaiah Gari Hotel     4.1   \n",
       "3            Paradise Biryani     3.9   \n",
       "4          Pista House Bakery     4.3   \n",
       "..                        ...     ...   \n",
       "652                  Dr Cakes     3.2   \n",
       "653                Shahi Naan       -   \n",
       "654  Combosthalam By Phulkaas     3.8   \n",
       "655      Pachadis By Phulkaas       -   \n",
       "656                     Tasim     3.4   \n",
       "\n",
       "                                               cuisine  price for one  \n",
       "0              Chinese, Bakery, Sichuan, Pizza, Burger            100  \n",
       "1      Burger, Fast Food, Biryani, Desserts, Beverages            100  \n",
       "2                         South Indian, Andhra, Mithai            100  \n",
       "3                  Biryani, Kebab, Desserts, Beverages            100  \n",
       "4    Fast Food, Sandwich, Pizza, Burger, Wraps, Rol...            100  \n",
       "..                                                 ...            ...  \n",
       "652                                   Bakery, Desserts            350  \n",
       "653                                       North Indian            350  \n",
       "654                              North Indian, Chinese            350  \n",
       "655                                       South Indian            350  \n",
       "656                                     Chinese, Momos            350  \n",
       "\n",
       "[657 rows x 5 columns]"
      ]
     },
     "execution_count": 4,
     "metadata": {},
     "output_type": "execute_result"
    }
   ],
   "source": [
    "data"
   ]
  },
  {
   "cell_type": "code",
   "execution_count": 5,
   "id": "81fb3396",
   "metadata": {
    "execution": {
     "iopub.execute_input": "2022-07-17T13:17:32.939989Z",
     "iopub.status.busy": "2022-07-17T13:17:32.939550Z",
     "iopub.status.idle": "2022-07-17T13:17:32.946117Z",
     "shell.execute_reply": "2022-07-17T13:17:32.945282Z"
    },
    "papermill": {
     "duration": 0.018837,
     "end_time": "2022-07-17T13:17:32.948376",
     "exception": false,
     "start_time": "2022-07-17T13:17:32.929539",
     "status": "completed"
    },
    "tags": []
   },
   "outputs": [
    {
     "data": {
      "text/plain": [
       "Index(['links', 'names', 'ratings', 'cuisine', 'price for one'], dtype='object')"
      ]
     },
     "execution_count": 5,
     "metadata": {},
     "output_type": "execute_result"
    }
   ],
   "source": [
    "data.columns"
   ]
  },
  {
   "cell_type": "code",
   "execution_count": 6,
   "id": "a2fb6f8e",
   "metadata": {
    "execution": {
     "iopub.execute_input": "2022-07-17T13:17:32.967777Z",
     "iopub.status.busy": "2022-07-17T13:17:32.967100Z",
     "iopub.status.idle": "2022-07-17T13:17:32.975198Z",
     "shell.execute_reply": "2022-07-17T13:17:32.974376Z"
    },
    "papermill": {
     "duration": 0.020407,
     "end_time": "2022-07-17T13:17:32.977378",
     "exception": false,
     "start_time": "2022-07-17T13:17:32.956971",
     "status": "completed"
    },
    "tags": []
   },
   "outputs": [
    {
     "data": {
      "text/plain": [
       "links            0\n",
       "names            0\n",
       "ratings          0\n",
       "cuisine          0\n",
       "price for one    0\n",
       "dtype: int64"
      ]
     },
     "execution_count": 6,
     "metadata": {},
     "output_type": "execute_result"
    }
   ],
   "source": [
    "#dealing with null data\n",
    "data.isnull().sum()"
   ]
  },
  {
   "cell_type": "code",
   "execution_count": 7,
   "id": "13a414bf",
   "metadata": {
    "execution": {
     "iopub.execute_input": "2022-07-17T13:17:32.997508Z",
     "iopub.status.busy": "2022-07-17T13:17:32.996795Z",
     "iopub.status.idle": "2022-07-17T13:17:33.000693Z",
     "shell.execute_reply": "2022-07-17T13:17:32.999841Z"
    },
    "papermill": {
     "duration": 0.016662,
     "end_time": "2022-07-17T13:17:33.002869",
     "exception": false,
     "start_time": "2022-07-17T13:17:32.986207",
     "status": "completed"
    },
    "tags": []
   },
   "outputs": [],
   "source": [
    "# it seems there is no null data "
   ]
  },
  {
   "cell_type": "code",
   "execution_count": 8,
   "id": "f7f08cec",
   "metadata": {
    "execution": {
     "iopub.execute_input": "2022-07-17T13:17:33.022939Z",
     "iopub.status.busy": "2022-07-17T13:17:33.022538Z",
     "iopub.status.idle": "2022-07-17T13:17:33.044837Z",
     "shell.execute_reply": "2022-07-17T13:17:33.043368Z"
    },
    "papermill": {
     "duration": 0.035553,
     "end_time": "2022-07-17T13:17:33.047545",
     "exception": false,
     "start_time": "2022-07-17T13:17:33.011992",
     "status": "completed"
    },
    "tags": []
   },
   "outputs": [
    {
     "name": "stdout",
     "output_type": "stream",
     "text": [
      "<class 'pandas.core.frame.DataFrame'>\n",
      "RangeIndex: 657 entries, 0 to 656\n",
      "Data columns (total 5 columns):\n",
      " #   Column         Non-Null Count  Dtype \n",
      "---  ------         --------------  ----- \n",
      " 0   links          657 non-null    object\n",
      " 1   names          657 non-null    object\n",
      " 2   ratings        657 non-null    object\n",
      " 3   cuisine        657 non-null    object\n",
      " 4   price for one  657 non-null    int64 \n",
      "dtypes: int64(1), object(4)\n",
      "memory usage: 25.8+ KB\n"
     ]
    }
   ],
   "source": [
    "data.info()"
   ]
  },
  {
   "cell_type": "markdown",
   "id": "0f9a779e",
   "metadata": {
    "execution": {
     "iopub.execute_input": "2022-07-17T10:57:59.607843Z",
     "iopub.status.busy": "2022-07-17T10:57:59.607291Z",
     "iopub.status.idle": "2022-07-17T10:57:59.625919Z",
     "shell.execute_reply": "2022-07-17T10:57:59.624298Z",
     "shell.execute_reply.started": "2022-07-17T10:57:59.607798Z"
    },
    "papermill": {
     "duration": 0.008829,
     "end_time": "2022-07-17T13:17:33.065568",
     "exception": false,
     "start_time": "2022-07-17T13:17:33.056739",
     "status": "completed"
    },
    "tags": []
   },
   "source": [
    "# __RESTAURANTS__"
   ]
  },
  {
   "cell_type": "code",
   "execution_count": 9,
   "id": "de60c380",
   "metadata": {
    "execution": {
     "iopub.execute_input": "2022-07-17T13:17:33.085902Z",
     "iopub.status.busy": "2022-07-17T13:17:33.085464Z",
     "iopub.status.idle": "2022-07-17T13:17:33.091523Z",
     "shell.execute_reply": "2022-07-17T13:17:33.090730Z"
    },
    "papermill": {
     "duration": 0.019311,
     "end_time": "2022-07-17T13:17:33.093828",
     "exception": false,
     "start_time": "2022-07-17T13:17:33.074517",
     "status": "completed"
    },
    "tags": []
   },
   "outputs": [],
   "source": [
    "res=data.names.value_counts()"
   ]
  },
  {
   "cell_type": "code",
   "execution_count": 10,
   "id": "3ccb1bfe",
   "metadata": {
    "execution": {
     "iopub.execute_input": "2022-07-17T13:17:33.113484Z",
     "iopub.status.busy": "2022-07-17T13:17:33.112733Z",
     "iopub.status.idle": "2022-07-17T13:17:33.452727Z",
     "shell.execute_reply": "2022-07-17T13:17:33.451760Z"
    },
    "papermill": {
     "duration": 0.352663,
     "end_time": "2022-07-17T13:17:33.455251",
     "exception": false,
     "start_time": "2022-07-17T13:17:33.102588",
     "status": "completed"
    },
    "tags": []
   },
   "outputs": [
    {
     "data": {
      "text/plain": [
       "Text(0.5, 1.0, \"HYDERABAD'S BUSY RESTAURANTS\")"
      ]
     },
     "execution_count": 10,
     "metadata": {},
     "output_type": "execute_result"
    },
    {
     "data": {
      "image/png": "[encoded data removed]",
      "text/plain": [
       "<Figure size 432x288 with 1 Axes>"
      ]
     },
     "metadata": {
      "needs_background": "light"
     },
     "output_type": "display_data"
    }
   ],
   "source": [
    "res[res.isin([3,2])].plot(kind='bar', color='#ee5c42')\n",
    "mat.ylabel('number of orders')\n",
    "mat.rcParams[\"figure.figsize\"]=(14,7)\n",
    "mat.title(\"HYDERABAD'S BUSY RESTAURANTS\")"
   ]
  },
  {
   "cell_type": "markdown",
   "id": "dfd6bd15",
   "metadata": {
    "papermill": {
     "duration": 0.010014,
     "end_time": "2022-07-17T13:17:33.475028",
     "exception": false,
     "start_time": "2022-07-17T13:17:33.465014",
     "status": "completed"
    },
    "tags": []
   },
   "source": [
    "### __MAXIMUM NUMBER OF ORDERS WAS PLACED FROM ABOVE RESTRAUENTS__ "
   ]
  },
  {
   "cell_type": "markdown",
   "id": "6f21aae7",
   "metadata": {
    "execution": {
     "iopub.execute_input": "2022-07-17T11:16:43.697098Z",
     "iopub.status.busy": "2022-07-17T11:16:43.696605Z",
     "iopub.status.idle": "2022-07-17T11:16:43.737981Z",
     "shell.execute_reply": "2022-07-17T11:16:43.736640Z",
     "shell.execute_reply.started": "2022-07-17T11:16:43.697061Z"
    },
    "papermill": {
     "duration": 0.00948,
     "end_time": "2022-07-17T13:17:33.494348",
     "exception": false,
     "start_time": "2022-07-17T13:17:33.484868",
     "status": "completed"
    },
    "tags": []
   },
   "source": [
    "# __RATINGS__"
   ]
  },
  {
   "cell_type": "code",
   "execution_count": 11,
   "id": "26d9a500",
   "metadata": {
    "execution": {
     "iopub.execute_input": "2022-07-17T13:17:33.515918Z",
     "iopub.status.busy": "2022-07-17T13:17:33.515510Z",
     "iopub.status.idle": "2022-07-17T13:17:33.522178Z",
     "shell.execute_reply": "2022-07-17T13:17:33.521384Z"
    },
    "papermill": {
     "duration": 0.020181,
     "end_time": "2022-07-17T13:17:33.524387",
     "exception": false,
     "start_time": "2022-07-17T13:17:33.504206",
     "status": "completed"
    },
    "tags": []
   },
   "outputs": [],
   "source": [
    "#converting the object type of ratings\n",
    "data['ratings']=pd.to_numeric(data.ratings, errors='coerce')"
   ]
  },
  {
   "cell_type": "code",
   "execution_count": 12,
   "id": "1a4847e8",
   "metadata": {
    "execution": {
     "iopub.execute_input": "2022-07-17T13:17:33.545866Z",
     "iopub.status.busy": "2022-07-17T13:17:33.545082Z",
     "iopub.status.idle": "2022-07-17T13:17:33.554442Z",
     "shell.execute_reply": "2022-07-17T13:17:33.553207Z"
    },
    "papermill": {
     "duration": 0.023201,
     "end_time": "2022-07-17T13:17:33.557326",
     "exception": false,
     "start_time": "2022-07-17T13:17:33.534125",
     "status": "completed"
    },
    "tags": []
   },
   "outputs": [],
   "source": [
    "rating=data[data.ratings>4.0][['names','price for one','ratings']]"
   ]
  },
  {
   "cell_type": "code",
   "execution_count": 13,
   "id": "16cc06c2",
   "metadata": {
    "execution": {
     "iopub.execute_input": "2022-07-17T13:17:33.579540Z",
     "iopub.status.busy": "2022-07-17T13:17:33.578486Z",
     "iopub.status.idle": "2022-07-17T13:17:33.594797Z",
     "shell.execute_reply": "2022-07-17T13:17:33.593571Z"
    },
    "papermill": {
     "duration": 0.030281,
     "end_time": "2022-07-17T13:17:33.597254",
     "exception": false,
     "start_time": "2022-07-17T13:17:33.566973",
     "status": "completed"
    },
    "tags": []
   },
   "outputs": [
    {
     "data": {
      "text/html": [
       "<div>\n",
       "<style scoped>\n",
       "    .dataframe tbody tr th:only-of-type {\n",
       "        vertical-align: middle;\n",
       "    }\n",
       "\n",
       "    .dataframe tbody tr th {\n",
       "        vertical-align: top;\n",
       "    }\n",
       "\n",
       "    .dataframe thead th {\n",
       "        text-align: right;\n",
       "    }\n",
       "</style>\n",
       "<table border=\"1\" class=\"dataframe\">\n",
       "  <thead>\n",
       "    <tr style=\"text-align: right;\">\n",
       "      <th></th>\n",
       "      <th>names</th>\n",
       "      <th>price for one</th>\n",
       "      <th>ratings</th>\n",
       "    </tr>\n",
       "  </thead>\n",
       "  <tbody>\n",
       "    <tr>\n",
       "      <th>450</th>\n",
       "      <td>Sri Krishna Sweets</td>\n",
       "      <td>100</td>\n",
       "      <td>4.7</td>\n",
       "    </tr>\n",
       "    <tr>\n",
       "      <th>496</th>\n",
       "      <td>US Live Pops</td>\n",
       "      <td>150</td>\n",
       "      <td>4.6</td>\n",
       "    </tr>\n",
       "    <tr>\n",
       "      <th>184</th>\n",
       "      <td>Euphoria</td>\n",
       "      <td>350</td>\n",
       "      <td>4.6</td>\n",
       "    </tr>\n",
       "    <tr>\n",
       "      <th>72</th>\n",
       "      <td>Almond House</td>\n",
       "      <td>350</td>\n",
       "      <td>4.6</td>\n",
       "    </tr>\n",
       "    <tr>\n",
       "      <th>611</th>\n",
       "      <td>Mimee's Chocolates</td>\n",
       "      <td>150</td>\n",
       "      <td>4.6</td>\n",
       "    </tr>\n",
       "    <tr>\n",
       "      <th>...</th>\n",
       "      <td>...</td>\n",
       "      <td>...</td>\n",
       "      <td>...</td>\n",
       "    </tr>\n",
       "    <tr>\n",
       "      <th>258</th>\n",
       "      <td>Madina Tiffins</td>\n",
       "      <td>150</td>\n",
       "      <td>4.1</td>\n",
       "    </tr>\n",
       "    <tr>\n",
       "      <th>232</th>\n",
       "      <td>Ravi Tiffins</td>\n",
       "      <td>150</td>\n",
       "      <td>4.1</td>\n",
       "    </tr>\n",
       "    <tr>\n",
       "      <th>229</th>\n",
       "      <td>Sri Siddartha Pure Veg</td>\n",
       "      <td>150</td>\n",
       "      <td>4.1</td>\n",
       "    </tr>\n",
       "    <tr>\n",
       "      <th>225</th>\n",
       "      <td>The Exotic Shawarma</td>\n",
       "      <td>150</td>\n",
       "      <td>4.1</td>\n",
       "    </tr>\n",
       "    <tr>\n",
       "      <th>234</th>\n",
       "      <td>Ankapur Chicken</td>\n",
       "      <td>150</td>\n",
       "      <td>4.1</td>\n",
       "    </tr>\n",
       "  </tbody>\n",
       "</table>\n",
       "<p>239 rows × 3 columns</p>\n",
       "</div>"
      ],
      "text/plain": [
       "                      names  price for one  ratings\n",
       "450      Sri Krishna Sweets            100      4.7\n",
       "496            US Live Pops            150      4.6\n",
       "184                Euphoria            350      4.6\n",
       "72             Almond House            350      4.6\n",
       "611      Mimee's Chocolates            150      4.6\n",
       "..                      ...            ...      ...\n",
       "258          Madina Tiffins            150      4.1\n",
       "232            Ravi Tiffins            150      4.1\n",
       "229  Sri Siddartha Pure Veg            150      4.1\n",
       "225     The Exotic Shawarma            150      4.1\n",
       "234         Ankapur Chicken            150      4.1\n",
       "\n",
       "[239 rows x 3 columns]"
      ]
     },
     "execution_count": 13,
     "metadata": {},
     "output_type": "execute_result"
    }
   ],
   "source": [
    "ratein=rating.sort_values(by='ratings', ascending = False)\n",
    "ratein"
   ]
  },
  {
   "cell_type": "code",
   "execution_count": 14,
   "id": "184c6a0a",
   "metadata": {
    "execution": {
     "iopub.execute_input": "2022-07-17T13:17:33.619613Z",
     "iopub.status.busy": "2022-07-17T13:17:33.618809Z",
     "iopub.status.idle": "2022-07-17T13:17:33.628247Z",
     "shell.execute_reply": "2022-07-17T13:17:33.626757Z"
    },
    "papermill": {
     "duration": 0.023614,
     "end_time": "2022-07-17T13:17:33.630839",
     "exception": false,
     "start_time": "2022-07-17T13:17:33.607225",
     "status": "completed"
    },
    "tags": []
   },
   "outputs": [
    {
     "data": {
      "text/plain": [
       "450                                  Sri Krishna Sweets\n",
       "496                                        US Live Pops\n",
       "184                                            Euphoria\n",
       "72                                         Almond House\n",
       "611                                  Mimee's Chocolates\n",
       "173                                 Emerald Mithai Shop\n",
       "300                                Hameedi Confectioner\n",
       "559                            Sri Shagun Mithai Vatika\n",
       "214                                       Madhur Sweets\n",
       "53     Kwality Wall’s Frozen Dessert and Ice Cream Shop\n",
       "Name: names, dtype: object"
      ]
     },
     "execution_count": 14,
     "metadata": {},
     "output_type": "execute_result"
    }
   ],
   "source": [
    "ratein.names.head(10)"
   ]
  },
  {
   "cell_type": "markdown",
   "id": "6ca4a3e7",
   "metadata": {
    "papermill": {
     "duration": 0.00952,
     "end_time": "2022-07-17T13:17:33.650995",
     "exception": false,
     "start_time": "2022-07-17T13:17:33.641475",
     "status": "completed"
    },
    "tags": []
   },
   "source": [
    "   ## __TOP RATED RESTAURANTS__\n",
    "   __Sri Krishna Sweets__,\n",
    "   \n",
    "   __US Live Pops,Euphoria,__\n",
    "   \n",
    "   __Almond House,__\n",
    "   \n",
    "   __Mimee's Chocolates,__\n",
    "   \n",
    "   __Hameedi Confectione,__\n",
    "   \n",
    "   __Sri Shagun Mithai Vatika__\n",
    "   \n",
    "   ,__Madhur Sweet,__\n",
    "   \n",
    "   __Kwality Wall’s Frozen Dessert__\n",
    "   \n",
    "   __and Ice Cream Shop__"
   ]
  },
  {
   "cell_type": "code",
   "execution_count": 15,
   "id": "cc7a5c07",
   "metadata": {
    "execution": {
     "iopub.execute_input": "2022-07-17T13:17:33.672991Z",
     "iopub.status.busy": "2022-07-17T13:17:33.672193Z",
     "iopub.status.idle": "2022-07-17T13:17:33.975689Z",
     "shell.execute_reply": "2022-07-17T13:17:33.974490Z"
    },
    "papermill": {
     "duration": 0.317465,
     "end_time": "2022-07-17T13:17:33.978276",
     "exception": false,
     "start_time": "2022-07-17T13:17:33.660811",
     "status": "completed"
    },
    "tags": []
   },
   "outputs": [
    {
     "name": "stderr",
     "output_type": "stream",
     "text": [
      "/opt/conda/lib/python3.7/site-packages/seaborn/_decorators.py:43: FutureWarning: Pass the following variable as a keyword arg: x. From version 0.12, the only valid positional argument will be `data`, and passing other arguments without an explicit keyword will result in an error or misinterpretation.\n",
      "  FutureWarning\n"
     ]
    },
    {
     "data": {
      "image/png": "[encoded data removed]",
      "text/plain": [
       "<Figure size 1008x504 with 1 Axes>"
      ]
     },
     "metadata": {
      "needs_background": "light"
     },
     "output_type": "display_data"
    }
   ],
   "source": [
    "sbn.countplot(data['ratings']);\n",
    "mat.title(\"HYDERABAD & RATINGS\", fontsize=15);"
   ]
  },
  {
   "cell_type": "markdown",
   "id": "89b96958",
   "metadata": {
    "papermill": {
     "duration": 0.009984,
     "end_time": "2022-07-17T13:17:33.998795",
     "exception": false,
     "start_time": "2022-07-17T13:17:33.988811",
     "status": "completed"
    },
    "tags": []
   },
   "source": [
    "### __IT SEEMS THAT MAXIUM NUMBER OF  RATINGS  ARE BETWEEN 4.1 AND 4.3 IN HYDERABAD REGION__"
   ]
  },
  {
   "cell_type": "markdown",
   "id": "a7c4cd85",
   "metadata": {
    "papermill": {
     "duration": 0.00991,
     "end_time": "2022-07-17T13:17:34.019056",
     "exception": false,
     "start_time": "2022-07-17T13:17:34.009146",
     "status": "completed"
    },
    "tags": []
   },
   "source": [
    "# TOP FOODS"
   ]
  },
  {
   "cell_type": "code",
   "execution_count": 16,
   "id": "78acf2b1",
   "metadata": {
    "execution": {
     "iopub.execute_input": "2022-07-17T13:17:34.041353Z",
     "iopub.status.busy": "2022-07-17T13:17:34.040962Z",
     "iopub.status.idle": "2022-07-17T13:17:34.292025Z",
     "shell.execute_reply": "2022-07-17T13:17:34.290756Z"
    },
    "papermill": {
     "duration": 0.26564,
     "end_time": "2022-07-17T13:17:34.294943",
     "exception": false,
     "start_time": "2022-07-17T13:17:34.029303",
     "status": "completed"
    },
    "tags": []
   },
   "outputs": [
    {
     "data": {
      "text/plain": [
       "Text(0, 0.5, 'number of orders')"
      ]
     },
     "execution_count": 16,
     "metadata": {},
     "output_type": "execute_result"
    },
    {
     "data": {
      "image/png": "[encoded data removed]",
      "text/plain": [
       "<Figure size 1008x504 with 1 Axes>"
      ]
     },
     "metadata": {
      "needs_background": "light"
     },
     "output_type": "display_data"
    }
   ],
   "source": [
    "data.cuisine.value_counts().head(10).plot(kind=\"bar\", color='#008b8b')\n",
    "mat.title(\"HYDERABD'S MOST LOVED  FOODS\", fontsize='15')\n",
    "mat.ylabel(\"number of orders\")"
   ]
  },
  {
   "cell_type": "markdown",
   "id": "05f5625d",
   "metadata": {
    "papermill": {
     "duration": 0.010883,
     "end_time": "2022-07-17T13:17:34.316834",
     "exception": false,
     "start_time": "2022-07-17T13:17:34.305951",
     "status": "completed"
    },
    "tags": []
   },
   "source": [
    "### __Hyderaba's people loves south Indian cuisine's__"
   ]
  },
  {
   "cell_type": "markdown",
   "id": "e62c5cc8",
   "metadata": {
    "papermill": {
     "duration": 0.010941,
     "end_time": "2022-07-17T13:17:34.339199",
     "exception": false,
     "start_time": "2022-07-17T13:17:34.328258",
     "status": "completed"
    },
    "tags": []
   },
   "source": [
    "# PRICE RANGE"
   ]
  },
  {
   "cell_type": "code",
   "execution_count": 17,
   "id": "06b6c862",
   "metadata": {
    "execution": {
     "iopub.execute_input": "2022-07-17T13:17:34.363633Z",
     "iopub.status.busy": "2022-07-17T13:17:34.363236Z",
     "iopub.status.idle": "2022-07-17T13:17:34.575171Z",
     "shell.execute_reply": "2022-07-17T13:17:34.573959Z"
    },
    "papermill": {
     "duration": 0.227133,
     "end_time": "2022-07-17T13:17:34.577626",
     "exception": false,
     "start_time": "2022-07-17T13:17:34.350493",
     "status": "completed"
    },
    "tags": []
   },
   "outputs": [
    {
     "data": {
      "image/png": "[encoded data removed]",
      "text/plain": [
       "<Figure size 1008x504 with 1 Axes>"
      ]
     },
     "metadata": {
      "needs_background": "light"
     },
     "output_type": "display_data"
    }
   ],
   "source": [
    "data.groupby('price for one')['cuisine'].count().sort_values(ascending=False).plot(kind='bar', color='#698b69')\n",
    "mat.xlabel('PRICE')\n",
    "mat.ylabel('NUMBER OF ORDERS')\n",
    "mat.title('PRICE & ORDERS');"
   ]
  },
  {
   "cell_type": "markdown",
   "id": "ff84ab81",
   "metadata": {
    "papermill": {
     "duration": 0.01105,
     "end_time": "2022-07-17T13:17:34.600777",
     "exception": false,
     "start_time": "2022-07-17T13:17:34.589727",
     "status": "completed"
    },
    "tags": []
   },
   "source": [
    "### __HIGHLY ORDERED FOODS ARE  OF PRICE RANGE 100 to 150  __"
   ]
  },
  {
   "cell_type": "code",
   "execution_count": 18,
   "id": "ea9dee02",
   "metadata": {
    "execution": {
     "iopub.execute_input": "2022-07-17T13:17:34.625404Z",
     "iopub.status.busy": "2022-07-17T13:17:34.624979Z",
     "iopub.status.idle": "2022-07-17T13:17:34.842665Z",
     "shell.execute_reply": "2022-07-17T13:17:34.841426Z"
    },
    "papermill": {
     "duration": 0.232964,
     "end_time": "2022-07-17T13:17:34.845205",
     "exception": false,
     "start_time": "2022-07-17T13:17:34.612241",
     "status": "completed"
    },
    "tags": []
   },
   "outputs": [
    {
     "data": {
      "text/plain": [
       "Text(0.5, 1.0, 'THE PRICE AND RATINGS')"
      ]
     },
     "execution_count": 18,
     "metadata": {},
     "output_type": "execute_result"
    },
    {
     "data": {
      "image/png": "[encoded data removed]",
      "text/plain": [
       "<Figure size 1008x504 with 1 Axes>"
      ]
     },
     "metadata": {
      "needs_background": "light"
     },
     "output_type": "display_data"
    }
   ],
   "source": [
    "data.groupby('ratings')['price for one'].mean().plot()\n",
    "mat.title('THE PRICE AND RATINGS', fontsize=15)"
   ]
  },
  {
   "cell_type": "markdown",
   "id": "63acf64d",
   "metadata": {
    "papermill": {
     "duration": 0.011925,
     "end_time": "2022-07-17T13:17:34.869194",
     "exception": false,
     "start_time": "2022-07-17T13:17:34.857269",
     "status": "completed"
    },
    "tags": []
   },
   "source": [
    "__ABOVE IS THE TREND BETWEEN RATINGS AND PRICES, IT SHOWS FOODS WITH LOW COST ARE LESS RATED__\n",
    "\n",
    "__REASONS: BAD FOOD QUALITY__\n",
    "\n",
    "\n",
    "__SOLUTION: CONCENTRATING ON LOW COST FOODS AND IT QUALITY HELPS IN BOOSTING UP THE RATING__\n",
    "\n",
    "### __THE MORE PEOPLE LOVE THE MORE PEOPLE RATE__\n"
   ]
  },
  {
   "cell_type": "markdown",
   "id": "dd5adcc6",
   "metadata": {
    "papermill": {
     "duration": 0.011929,
     "end_time": "2022-07-17T13:17:34.893326",
     "exception": false,
     "start_time": "2022-07-17T13:17:34.881397",
     "status": "completed"
    },
    "tags": []
   },
   "source": [
    "__"
   ]
  },
  {
   "cell_type": "code",
   "execution_count": null,
   "id": "5b20e267",
   "metadata": {
    "papermill": {
     "duration": 0.011891,
     "end_time": "2022-07-17T13:17:34.918019",
     "exception": false,
     "start_time": "2022-07-17T13:17:34.906128",
     "status": "completed"
    },
    "tags": []
   },
   "outputs": [],
   "source": []
  },
  {
   "cell_type": "code",
   "execution_count": null,
   "id": "a1894bd4",
   "metadata": {
    "papermill": {
     "duration": 0.011834,
     "end_time": "2022-07-17T13:17:34.942060",
     "exception": false,
     "start_time": "2022-07-17T13:17:34.930226",
     "status": "completed"
    },
    "tags": []
   },
   "outputs": [],
   "source": []
  }
 ],
 "metadata": {
  "kernelspec": {
   "display_name": "Python 3",
   "language": "python",
   "name": "python3"
  },
  "language_info": {
   "codemirror_mode": {
    "name": "ipython",
    "version": 3
   },
   "file_extension": ".py",
   "mimetype": "text/x-python",
   "name": "python",
   "nbconvert_exporter": "python",
   "pygments_lexer": "ipython3",
   "version": "3.7.12"
  },
  "papermill": {
   "default_parameters": {},
   "duration": 14.412337,
   "end_time": "2022-07-17T13:17:35.677288",
   "environment_variables": {},
   "exception": null,
   "input_path": "__notebook__.ipynb",
   "output_path": "__notebook__.ipynb",
   "parameters": {},
   "start_time": "2022-07-17T13:17:21.264951",
   "version": "2.3.4"
  }
 },
 "nbformat": 4,
 "nbformat_minor": 5
}
